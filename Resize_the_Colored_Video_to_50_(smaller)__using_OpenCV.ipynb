{
  "nbformat": 4,
  "nbformat_minor": 0,
  "metadata": {
    "colab": {
      "provenance": [],
      "authorship_tag": "ABX9TyM5J4wpj/cEyw4D4F4zo9ba",
      "include_colab_link": true
    },
    "kernelspec": {
      "name": "python3",
      "display_name": "Python 3"
    },
    "language_info": {
      "name": "python"
    }
  },
  "cells": [
    {
      "cell_type": "markdown",
      "metadata": {
        "id": "view-in-github",
        "colab_type": "text"
      },
      "source": [
        "<a href=\"https://colab.research.google.com/github/gurpinder7473/Resize_the_Colored_Video_to-50-smaller-_using_OpenCV/blob/main/Resize_the_Colored_Video_to_50_(smaller)__using_OpenCV.ipynb\" target=\"_parent\"><img src=\"https://colab.research.google.com/assets/colab-badge.svg\" alt=\"Open In Colab\"/></a>"
      ]
    },
    {
      "cell_type": "code",
      "execution_count": 1,
      "metadata": {
        "id": "gOaim6XsLmwf",
        "colab": {
          "base_uri": "https://localhost:8080/"
        },
        "outputId": "d8c5cfc9-9427-478b-c35e-394dc2965f27"
      },
      "outputs": [
        {
          "output_type": "stream",
          "name": "stdout",
          "text": [
            "Colored Video Resizer\n",
            "Error: Input video file not found.\n"
          ]
        }
      ],
      "source": [
        "# Required Libraries\n",
        "import cv2                   # OpenCV for video processing\n",
        "from pathlib import Path     # Modern path handling\n",
        "\n",
        "# Video resizing function\n",
        "def resize_video(input_video_path, output_video_path, scale_percent=50):\n",
        "    \"\"\"\n",
        "    Resizes a colored video to a given scale percentage and saves it.\n",
        "    \"\"\"\n",
        "    input_path = Path(input_video_path)\n",
        "    if not input_path.is_file():\n",
        "        print(\"Error: Input video file not found.\")\n",
        "        return\n",
        "\n",
        "    # Load video\n",
        "    cap = cv2.VideoCapture(str(input_path))\n",
        "    if not cap.isOpened():\n",
        "        print(\"Failed to open the video.\")\n",
        "        return\n",
        "\n",
        "    # Get original properties\n",
        "    orig_width = int(cap.get(cv2.CAP_PROP_FRAME_WIDTH))\n",
        "    orig_height = int(cap.get(cv2.CAP_PROP_FRAME_HEIGHT))\n",
        "    fps = cap.get(cv2.CAP_PROP_FPS)\n",
        "    codec = cv2.VideoWriter_fourcc(*'XVID')  # Use 'MP4V' for .mp4 files\n",
        "\n",
        "    # Calculate new dimensions\n",
        "    width = int(orig_width * scale_percent / 100)\n",
        "    height = int(orig_height * scale_percent / 100)\n",
        "\n",
        "    out = cv2.VideoWriter(str(output_video_path), codec, fps, (width, height))\n",
        "\n",
        "    print(f\"Resizing video to {scale_percent}%...\\nInput: {input_video_path}\\nOutput: {output_video_path}\")\n",
        "\n",
        "    while True:\n",
        "        ret, frame = cap.read()\n",
        "        if not ret:\n",
        "            break\n",
        "        resized_frame = cv2.resize(frame, (width, height), interpolation=cv2.INTER_AREA)\n",
        "        out.write(resized_frame)\n",
        "\n",
        "    cap.release()\n",
        "    out.release()\n",
        "    print(\"Resizing complete! Resized video saved successfully.\")\n",
        "\n",
        "#  Main Execution\n",
        "if __name__ == \"__main__\":\n",
        "    print(\"Colored Video Resizer\")\n",
        "\n",
        "    #  Update these paths to your actual video files\n",
        "    input_video = r\"E:\\videos\\input_video.mp4\"\n",
        "    output_video = r\"E:\\videos\\resized_video.avi\"\n",
        "\n",
        "    resize_video(input_video, output_video, scale_percent=50)"
      ]
    }
  ]
}